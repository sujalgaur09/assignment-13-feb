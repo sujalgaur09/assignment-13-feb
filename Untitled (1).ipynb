{
 "cells": [
  {
   "cell_type": "code",
   "execution_count": null,
   "id": "b59b203d-9822-4964-9df9-59cc25e414a1",
   "metadata": {},
   "outputs": [],
   "source": []
  },
  {
   "cell_type": "code",
   "execution_count": 1,
   "id": "97a62adb-5e85-42a8-a020-4b78a3419aaf",
   "metadata": {},
   "outputs": [
    {
     "name": "stdout",
     "output_type": "stream",
     "text": [
      "ANSWER1:)\n",
      "class are blueprint ,its define the things  we have to use the exception class while creating a custom exception because we have to inherit the properties of exception class while creating custom exception , also we make it so that we can raise the custom exception anytime anywhere and reuse it as many time we want\n"
     ]
    }
   ],
   "source": [
    "print(\"\"\"ANSWER1:)\n",
    "class are blueprint ,its define the things  we have to use the exception class while creating a custom exception because we have to inherit the properties of exception class while creating custom exception , also we make it so that we can raise the custom exception anytime anywhere and reuse it as many time we want\"\"\")"
   ]
  },
  {
   "cell_type": "code",
   "execution_count": 2,
   "id": "79cc647e-3792-42a3-87a7-a30f055df402",
   "metadata": {},
   "outputs": [
    {
     "name": "stdout",
     "output_type": "stream",
     "text": [
      "ANSWER2\n",
      "5\n",
      "else is only print when try is executed\n",
      "finally will print in both condition\n"
     ]
    }
   ],
   "source": [
    "print(\"ANSWER2\")\n",
    "try:\n",
    "    l =[2,3,4,5]\n",
    "    print (l[3])\n",
    "except IndexError as e:\n",
    "    print (e)\n",
    "else :\n",
    "    print (\"else is only print when try is executed\")\n",
    "finally :\n",
    "    print(\"finally will print in both condition\")\n",
    "    \n",
    "    "
   ]
  },
  {
   "cell_type": "code",
   "execution_count": 3,
   "id": "14701561-6116-4cf2-9490-32bb4fc5ecb7",
   "metadata": {},
   "outputs": [
    {
     "name": "stdout",
     "output_type": "stream",
     "text": [
      "ANSWER3:\n",
      "the arithmetic error exception is the base class for all errors associated with all error associated with arithmetic operations\n",
      "1.zerodivision error\n",
      "2.overflow error\n",
      "3.floating point error\n"
     ]
    }
   ],
   "source": [
    "print(\"\"\"ANSWER3:\n",
    "the arithmetic error exception is the base class for all errors associated with all error associated with arithmetic operations\n",
    "1.zerodivision error\n",
    "2.overflow error\n",
    "3.floating point error\"\"\")\n"
   ]
  },
  {
   "cell_type": "code",
   "execution_count": 6,
   "id": "c2206aee-a9a4-42d3-8274-ce0ab4e00745",
   "metadata": {},
   "outputs": [
    {
     "name": "stdout",
     "output_type": "stream",
     "text": [
      "example1\n",
      "i am trying to handle zero division error division by zero\n"
     ]
    }
   ],
   "source": [
    "print (\"example1\")\n",
    "try :\n",
    "    1/0\n",
    "except ArithmeticError as e:\n",
    "    print (\"i am trying to handle zero division error\" ,e)"
   ]
  },
  {
   "cell_type": "code",
   "execution_count": 5,
   "id": "e5a873d8-97c7-421f-9b8d-76e891af4085",
   "metadata": {},
   "outputs": [
    {
     "name": "stdout",
     "output_type": "stream",
     "text": [
      "example2\n",
      "(34, 'Numerical result out of range'), <class 'OverflowError'>\n"
     ]
    }
   ],
   "source": [
    "print(\"example2\")\n",
    "j = 5.0\n",
    "\n",
    "try:\n",
    "    for i in range(1, 1000):\n",
    "        j = j**i\n",
    "except ArithmeticError as e:\n",
    "    print(f\"{e}, {e.__class__}\")"
   ]
  },
  {
   "cell_type": "code",
   "execution_count": 7,
   "id": "2f0c1a7b-1285-4177-8e93-77330600d474",
   "metadata": {},
   "outputs": [
    {
     "name": "stdout",
     "output_type": "stream",
     "text": [
      "answer4:\n",
      "The LookupError exception in Python forms the base class for all exceptions that are raised when an index or a key is not found for a sequence or dictionary respectively.\n",
      "\n",
      "You can use LookupError exception class to handle both IndexError and KeyError exception classes.\n"
     ]
    }
   ],
   "source": [
    "print(\"\"\"answer4:\n",
    "The LookupError exception in Python forms the base class for all exceptions that are raised when an index or a key is not found for a sequence or dictionary respectively.\n",
    "\n",
    "You can use LookupError exception class to handle both IndexError and KeyError exception classes.\"\"\")"
   ]
  },
  {
   "cell_type": "code",
   "execution_count": 8,
   "id": "678c0555-f155-4246-97b7-b232eee4c22a",
   "metadata": {},
   "outputs": [
    {
     "name": "stdout",
     "output_type": "stream",
     "text": [
      "example1 key error\n",
      "i am trying to handle keyerror 'key3'\n"
     ]
    }
   ],
   "source": [
    "print(\"example1 key error\")\n",
    "try :\n",
    "    d = {\"sujal\":\"student\" ,1:[1,2,2,3,]}\n",
    "    print (d[\"key3\"])\n",
    "except KeyError as e :\n",
    "    print(\"i am trying to handle keyerror\", e)\n",
    "    \n",
    "             \n",
    "    \n",
    "    \n"
   ]
  },
  {
   "cell_type": "code",
   "execution_count": 10,
   "id": "f0873c86-ef4f-472d-8f7f-c532cff7fcfc",
   "metadata": {},
   "outputs": [
    {
     "name": "stdout",
     "output_type": "stream",
     "text": [
      "example 2 index error\n",
      "list index out of range\n"
     ]
    }
   ],
   "source": [
    "print(\"example 2 index error\")\n",
    "try:\n",
    "    l = [2,3,4,5]\n",
    "    print (l[6])\n",
    "except IndexError as e:\n",
    "    print (e)\n",
    "    "
   ]
  },
  {
   "cell_type": "code",
   "execution_count": 11,
   "id": "d6c27581-9867-4b54-9e72-c5da1d3405d3",
   "metadata": {},
   "outputs": [
    {
     "name": "stdout",
     "output_type": "stream",
     "text": [
      "ANSWER5\n",
      "IMPORT ERROR:An ImportError is detected when Python has problems with a successful module import. Usually this problem is caused by the incorrect path and is usually displayed with the message that there is “No module named (…)” or “cannot import name (…)”.\n",
      "t's raised specifically when the module cannot be found at all. Other problems can occur after the file is found, but during the actual process of loading the file or defining the function: those would raise ImportError.\n",
      "\n",
      "MODULE NOT FOUND ERROR: ModuleNotFoundError is a specific type of ImportError. See exception hierarchy. So if you have an except ImportError block, that will cover ModuleNotFoundError.this error occurs when you're trying to access or use a module that cannot be found. In the case of the title, the \"module named Python\" cannot be found. Python here can be any module.\n",
      "\n",
      "\n"
     ]
    }
   ],
   "source": [
    "print (\"\"\"ANSWER5\n",
    "IMPORT ERROR:An ImportError is detected when Python has problems with a successful module import. Usually this problem is caused by the incorrect path and is usually displayed with the message that there is “No module named (…)” or “cannot import name (…)”.\n",
    "t's raised specifically when the module cannot be found at all. Other problems can occur after the file is found, but during the actual process of loading the file or defining the function: those would raise ImportError.\n",
    "\n",
    "MODULE NOT FOUND ERROR: ModuleNotFoundError is a specific type of ImportError. See exception hierarchy. So if you have an except ImportError block, that will cover ModuleNotFoundError.this error occurs when you're trying to access or use a module that cannot be found. In the case of the title, the \"module named Python\" cannot be found. Python here can be any module.\n",
    "\n",
    "\"\"\")"
   ]
  },
  {
   "cell_type": "code",
   "execution_count": null,
   "id": "8d2e0073-57b0-4191-9e6d-e486168cf056",
   "metadata": {},
   "outputs": [],
   "source": [
    "print (\"\"\"answer6:\n",
    "list of best practice for exception handling\n",
    "1:always use specific exception\n",
    "2:print always a proper message\n",
    "3:always try to log your error\n",
    "4:always aviod to write multiple exception handeling\n",
    "5: document all error\n",
    "6:clean up all the resources\"\"\")"
   ]
  }
 ],
 "metadata": {
  "kernelspec": {
   "display_name": "Python 3 (ipykernel)",
   "language": "python",
   "name": "python3"
  },
  "language_info": {
   "codemirror_mode": {
    "name": "ipython",
    "version": 3
   },
   "file_extension": ".py",
   "mimetype": "text/x-python",
   "name": "python",
   "nbconvert_exporter": "python",
   "pygments_lexer": "ipython3",
   "version": "3.10.8"
  }
 },
 "nbformat": 4,
 "nbformat_minor": 5
}
